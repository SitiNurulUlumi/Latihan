{
  "nbformat": 4,
  "nbformat_minor": 0,
  "metadata": {
    "colab": {
      "name": "Untitled4.ipynb",
      "provenance": [],
      "collapsed_sections": [],
      "authorship_tag": "ABX9TyMnm6d/uLBevP5RHV3npJc0",
      "include_colab_link": true
    },
    "kernelspec": {
      "name": "python3",
      "display_name": "Python 3"
    },
    "language_info": {
      "name": "python"
    }
  },
  "cells": [
    {
      "cell_type": "markdown",
      "metadata": {
        "id": "view-in-github",
        "colab_type": "text"
      },
      "source": [
        "<a href=\"https://colab.research.google.com/github/SitiNurulUlumi/Latihan/blob/main/Untitled4.ipynb\" target=\"_parent\"><img src=\"https://colab.research.google.com/assets/colab-badge.svg\" alt=\"Open In Colab\"/></a>"
      ]
    },
    {
      "cell_type": "code",
      "metadata": {
        "id": "9EyKZTiCwqwG"
      },
      "source": [
        "import numpy as np\n",
        "import pandas as pd"
      ],
      "execution_count": 10,
      "outputs": []
    },
    {
      "cell_type": "code",
      "metadata": {
        "colab": {
          "base_uri": "https://localhost:8080/"
        },
        "id": "x4R4HEHLy94Q",
        "outputId": "b7f79572-370c-4a38-9cae-9c5c2f5afadf"
      },
      "source": [
        "data = pd.read_csv('diabetes-dataset.csv')\n",
        "print(data)"
      ],
      "execution_count": 27,
      "outputs": [
        {
          "output_type": "stream",
          "text": [
            "      Pregnancies  Glucose  ...  Age  Outcome\n",
            "0               2      138  ...   47        1\n",
            "1               0       84  ...   23        0\n",
            "2               0      145  ...   31        1\n",
            "3               0      135  ...   24        1\n",
            "4               1      139  ...   21        0\n",
            "...           ...      ...  ...  ...      ...\n",
            "1995            2       75  ...   33        0\n",
            "1996            8      179  ...   36        1\n",
            "1997            6       85  ...   42        0\n",
            "1998            0      129  ...   26        1\n",
            "1999            2       81  ...   25        0\n",
            "\n",
            "[2000 rows x 9 columns]\n"
          ],
          "name": "stdout"
        }
      ]
    },
    {
      "cell_type": "code",
      "metadata": {
        "id": "tMJHHx4hzEee"
      },
      "source": [
        "def min_max_scaling(df):\n",
        "    # copy the dataframe\n",
        "    df_norm = df.copy()\n",
        "    # apply min-max scaling\n",
        "    for column in df_norm.columns:\n",
        "        df_norm[column] = (df_norm[column] - df_norm[column].min()) / (df_norm[column].max() - df_norm[column].min())\n",
        "    return df_norm"
      ],
      "execution_count": 28,
      "outputs": []
    },
    {
      "cell_type": "code",
      "metadata": {
        "colab": {
          "base_uri": "https://localhost:8080/"
        },
        "id": "ZT4O-al_1lXK",
        "outputId": "b84ed5e4-efb6-443e-f39b-4bdf9b837679"
      },
      "source": [
        "norm_data_ku = min_max_scaling(data[['Pregnancies', 'Glucose','BloodPressure','SkinThickness','Insulin','BMI','DiabetesPedigreeFunction','Age']])\n",
        "print(norm_data_ku)"
      ],
      "execution_count": 31,
      "outputs": [
        {
          "output_type": "stream",
          "text": [
            "      Pregnancies   Glucose  ...  DiabetesPedigreeFunction       Age\n",
            "0        0.117647  0.693467  ...                  0.020922  0.433333\n",
            "1        0.000000  0.422111  ...                  0.066183  0.033333\n",
            "2        0.000000  0.728643  ...                  0.235696  0.166667\n",
            "3        0.000000  0.678392  ...                  0.122545  0.050000\n",
            "4        0.058824  0.698492  ...                  0.195559  0.000000\n",
            "...           ...       ...  ...                       ...       ...\n",
            "1995     0.117647  0.376884  ...                  0.124680  0.200000\n",
            "1996     0.470588  0.899497  ...                  0.273698  0.250000\n",
            "1997     0.352941  0.427136  ...                  0.129804  0.350000\n",
            "1998     0.000000  0.648241  ...                  0.102904  0.083333\n",
            "1999     0.117647  0.407035  ...                  0.200256  0.066667\n",
            "\n",
            "[2000 rows x 8 columns]\n"
          ],
          "name": "stdout"
        }
      ]
    },
    {
      "cell_type": "code",
      "metadata": {
        "id": "QUyV8AHI28Uu",
        "colab": {
          "base_uri": "https://localhost:8080/"
        },
        "outputId": "2b4b1615-0c0c-42b1-9eb4-ac2cd3a473a7"
      },
      "source": [
        "target_output = data[['Outcome']].replace([1,0],[0,1])\n",
        "print(target_output)"
      ],
      "execution_count": 33,
      "outputs": [
        {
          "output_type": "stream",
          "text": [
            "      Outcome\n",
            "0           0\n",
            "1           1\n",
            "2           0\n",
            "3           0\n",
            "4           1\n",
            "...       ...\n",
            "1995        1\n",
            "1996        0\n",
            "1997        1\n",
            "1998        0\n",
            "1999        1\n",
            "\n",
            "[2000 rows x 1 columns]\n"
          ],
          "name": "stdout"
        }
      ]
    },
    {
      "cell_type": "code",
      "metadata": {
        "colab": {
          "base_uri": "https://localhost:8080/"
        },
        "id": "3fBsg3vK9Gy0",
        "outputId": "da694ef0-393b-425f-c0b8-56b323b23217"
      },
      "source": [
        "norm_data_ku = pd.concat([norm_data_ku, target_output], axis=1)\n",
        "print(norm_data_ku)\n"
      ],
      "execution_count": 34,
      "outputs": [
        {
          "output_type": "stream",
          "text": [
            "      Pregnancies   Glucose  ...       Age  Outcome\n",
            "0        0.117647  0.693467  ...  0.433333        0\n",
            "1        0.000000  0.422111  ...  0.033333        1\n",
            "2        0.000000  0.728643  ...  0.166667        0\n",
            "3        0.000000  0.678392  ...  0.050000        0\n",
            "4        0.058824  0.698492  ...  0.000000        1\n",
            "...           ...       ...  ...       ...      ...\n",
            "1995     0.117647  0.376884  ...  0.200000        1\n",
            "1996     0.470588  0.899497  ...  0.250000        0\n",
            "1997     0.352941  0.427136  ...  0.350000        1\n",
            "1998     0.000000  0.648241  ...  0.083333        0\n",
            "1999     0.117647  0.407035  ...  0.066667        1\n",
            "\n",
            "[2000 rows x 9 columns]\n"
          ],
          "name": "stdout"
        }
      ]
    },
    {
      "cell_type": "code",
      "metadata": {
        "colab": {
          "base_uri": "https://localhost:8080/"
        },
        "id": "s_BaeWZB9a5l",
        "outputId": "4b161aac-fe57-47cc-e649-9c993999a9a5"
      },
      "source": [
        "persentase_test_training = 90/100.0\n",
        "norm_data_ku['training'] = np.random.rand(len(norm_data_ku)) < persentase_test_training\n",
        "print(norm_data_ku)"
      ],
      "execution_count": 35,
      "outputs": [
        {
          "output_type": "stream",
          "text": [
            "      Pregnancies   Glucose  BloodPressure  ...       Age  Outcome  training\n",
            "0        0.117647  0.693467       0.508197  ...  0.433333        0      True\n",
            "1        0.000000  0.422111       0.672131  ...  0.033333        1      True\n",
            "2        0.000000  0.728643       0.000000  ...  0.166667        0      True\n",
            "3        0.000000  0.678392       0.557377  ...  0.050000        0      True\n",
            "4        0.058824  0.698492       0.508197  ...  0.000000        1      True\n",
            "...           ...       ...            ...  ...       ...      ...       ...\n",
            "1995     0.117647  0.376884       0.524590  ...  0.200000        1      True\n",
            "1996     0.470588  0.899497       0.590164  ...  0.250000        0      True\n",
            "1997     0.352941  0.427136       0.639344  ...  0.350000        1      True\n",
            "1998     0.000000  0.648241       0.901639  ...  0.083333        0      True\n",
            "1999     0.117647  0.407035       0.590164  ...  0.066667        1     False\n",
            "\n",
            "[2000 rows x 10 columns]\n"
          ],
          "name": "stdout"
        }
      ]
    },
    {
      "cell_type": "code",
      "metadata": {
        "colab": {
          "base_uri": "https://localhost:8080/"
        },
        "id": "fqr2-2e-9hnd",
        "outputId": "437a993e-6294-423f-e3ed-4b0fb0c51bcc"
      },
      "source": [
        "training_data_ku = norm_data_ku[norm_data_ku.training == True]\n",
        "#menghilangkan kolom 'training' yang menampilkan true dan false\n",
        "training_data_ku = training_data_ku.drop('training',axis=1).sample(frac=1)\n",
        "#menampilkan training_data_iris sebanyak 92% dari dataset\n",
        "print(training_data_ku)"
      ],
      "execution_count": 36,
      "outputs": [
        {
          "output_type": "stream",
          "text": [
            "      Pregnancies   Glucose  ...       Age  Outcome\n",
            "738      0.117647  0.497487  ...  0.000000        1\n",
            "358      0.705882  0.442211  ...  0.450000        1\n",
            "622      0.352941  0.919598  ...  0.400000        1\n",
            "1576     0.176471  0.402010  ...  0.016667        1\n",
            "1448     0.000000  0.391960  ...  0.000000        1\n",
            "...           ...       ...  ...       ...      ...\n",
            "1304     0.529412  0.286432  ...  0.333333        1\n",
            "1484     0.235294  0.924623  ...  0.166667        0\n",
            "1138     0.000000  0.814070  ...  0.083333        0\n",
            "601      0.352941  0.482412  ...  0.116667        1\n",
            "924      0.117647  0.502513  ...  0.050000        1\n",
            "\n",
            "[1816 rows x 9 columns]\n"
          ],
          "name": "stdout"
        }
      ]
    },
    {
      "cell_type": "code",
      "metadata": {
        "colab": {
          "base_uri": "https://localhost:8080/"
        },
        "id": "1MMFkxDz9tIM",
        "outputId": "bf2909a3-b8a3-4510-a318-fce84970c4ce"
      },
      "source": [
        "test_data_ku = norm_data_ku[norm_data_ku.training == False]\n",
        "test_data_ku = test_data_ku.drop('training',axis=1).sample(frac=1)\n",
        "print(test_data_ku)"
      ],
      "execution_count": 37,
      "outputs": [
        {
          "output_type": "stream",
          "text": [
            "      Pregnancies   Glucose  ...       Age  Outcome\n",
            "1728     0.000000  0.512563  ...  0.100000        1\n",
            "963      0.235294  0.628141  ...  0.400000        0\n",
            "1473     0.000000  0.693467  ...  0.000000        0\n",
            "1976     0.411765  0.763819  ...  0.250000        0\n",
            "1999     0.117647  0.407035  ...  0.066667        1\n",
            "...           ...       ...  ...       ...      ...\n",
            "248      0.529412  0.623116  ...  0.216667        1\n",
            "1918     0.058824  0.356784  ...  0.016667        1\n",
            "1970     0.117647  0.452261  ...  0.016667        1\n",
            "1723     0.764706  0.522613  ...  0.283333        0\n",
            "1338     0.352941  0.437186  ...  0.183333        1\n",
            "\n",
            "[184 rows x 9 columns]\n"
          ],
          "name": "stdout"
        }
      ]
    },
    {
      "cell_type": "code",
      "metadata": {
        "colab": {
          "base_uri": "https://localhost:8080/"
        },
        "id": "xIeIde5G93Sl",
        "outputId": "3d756f33-43ea-48c7-a99a-f0a1ef4f078b"
      },
      "source": [
        "training_inputs = training_data_ku.values[:,:4]\n",
        "print(training_inputs)\n"
      ],
      "execution_count": 38,
      "outputs": [
        {
          "output_type": "stream",
          "text": [
            "[[0.11764706 0.49748744 0.49180328 0.15454545]\n",
            " [0.70588235 0.44221106 0.60655738 0.36363636]\n",
            " [0.35294118 0.91959799 0.7704918  0.        ]\n",
            " ...\n",
            " [0.         0.81407035 0.62295082 0.32727273]\n",
            " [0.35294118 0.48241206 0.         0.        ]\n",
            " [0.11764706 0.50251256 0.44262295 0.25454545]]\n"
          ],
          "name": "stdout"
        }
      ]
    },
    {
      "cell_type": "code",
      "metadata": {
        "colab": {
          "base_uri": "https://localhost:8080/"
        },
        "id": "C79fTa529-Nf",
        "outputId": "974730be-1c4e-4d63-fd89-4ea8b2447b7e"
      },
      "source": [
        "target_outputs = [[1,0,0],[0,1,0],[0,0,1]]\n",
        "target_outputs = np.array([target_outputs[int(x)] for x in training_data_ku.values[:,4:5]])\n",
        "target_outputs\n"
      ],
      "execution_count": 39,
      "outputs": [
        {
          "output_type": "execute_result",
          "data": {
            "text/plain": [
              "array([[1, 0, 0],\n",
              "       [1, 0, 0],\n",
              "       [1, 0, 0],\n",
              "       ...,\n",
              "       [1, 0, 0],\n",
              "       [1, 0, 0],\n",
              "       [1, 0, 0]])"
            ]
          },
          "metadata": {
            "tags": []
          },
          "execution_count": 39
        }
      ]
    },
    {
      "cell_type": "code",
      "metadata": {
        "colab": {
          "base_uri": "https://localhost:8080/"
        },
        "id": "9MBlTrg9-DBd",
        "outputId": "ffef8e92-37f7-49e5-ce4c-395584c7d8c0"
      },
      "source": [
        "jumlah_input = len(training_inputs[0])\n",
        "jumlah_neuron_hidden_layer = 5\n",
        "np.random.seed(1)\n",
        "synaptic_weights_1 = 2 * np.random.random((jumlah_input,jumlah_neuron_hidden_layer))-1\n",
        "print(synaptic_weights_1)"
      ],
      "execution_count": 40,
      "outputs": [
        {
          "output_type": "stream",
          "text": [
            "[[-0.16595599  0.44064899 -0.99977125 -0.39533485 -0.70648822]\n",
            " [-0.81532281 -0.62747958 -0.30887855 -0.20646505  0.07763347]\n",
            " [-0.16161097  0.370439   -0.5910955   0.75623487 -0.94522481]\n",
            " [ 0.34093502 -0.1653904   0.11737966 -0.71922612 -0.60379702]]\n"
          ],
          "name": "stdout"
        }
      ]
    },
    {
      "cell_type": "code",
      "metadata": {
        "colab": {
          "base_uri": "https://localhost:8080/"
        },
        "id": "ImCINPcq-I7P",
        "outputId": "ae8d5f05-d686-4df4-ccaf-40abcccb3bb8"
      },
      "source": [
        "jumlah_output = len(target_outputs[0])\n",
        "#perhitungan weight_2= menghasilkan jumlah weights dengan cara random dari jumlah input *2 -1\n",
        "synaptic_weights_2 = 2 * np.random.random((jumlah_neuron_hidden_layer, jumlah_output))-1\n",
        "print(synaptic_weights_2)"
      ],
      "execution_count": 41,
      "outputs": [
        {
          "output_type": "stream",
          "text": [
            "[[ 0.60148914  0.93652315 -0.37315164]\n",
            " [ 0.38464523  0.7527783   0.78921333]\n",
            " [-0.82991158 -0.92189043 -0.66033916]\n",
            " [ 0.75628501 -0.80330633 -0.15778475]\n",
            " [ 0.91577906  0.06633057  0.38375423]]\n"
          ],
          "name": "stdout"
        }
      ]
    },
    {
      "cell_type": "code",
      "metadata": {
        "id": "Yv5KMVa4-NX3"
      },
      "source": [
        ""
      ],
      "execution_count": null,
      "outputs": []
    }
  ]
}